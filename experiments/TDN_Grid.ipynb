{
 "cells": [
  {
   "cell_type": "code",
   "execution_count": 10,
   "metadata": {},
   "outputs": [],
   "source": [
    "import random\n",
    "import matplotlib.pyplot as plt\n",
    "import numpy as np "
   ]
  },
  {
   "cell_type": "code",
   "execution_count": 11,
   "metadata": {},
   "outputs": [],
   "source": [
    "NEG_INF = 0"
   ]
  },
  {
   "cell_type": "code",
   "execution_count": 12,
   "metadata": {},
   "outputs": [],
   "source": [
    "class Env:\n",
    "    index_to_direction = [\n",
    "        [ 0,-1],\n",
    "        [ 0, 1],\n",
    "        [-1, 0],\n",
    "        [ 1, 0]]\n",
    "    \n",
    "    def __init__(self, n = 5,start_x = 3,start_y = 3,end_states = {(0,0)},random_start = False):\n",
    "        self.start_x = start_x\n",
    "        self.start_y = start_y\n",
    "        self.x = self.start_x\n",
    "        self.y = self.start_y\n",
    "        self.n = n\n",
    "        self.end_states = end_states\n",
    "        self.random_start = random_start\n",
    "        \n",
    "    def get_next_state(self,action):\n",
    "        tx = self.x + self.index_to_direction[action][0]\n",
    "        ty = self.y + self.index_to_direction[action][1]\n",
    "            \n",
    "        return (tx,ty)\n",
    "    \n",
    "    def is_valid(self,x,y):\n",
    "        if x < 0 or x >= self.n or y < 0 or y >= self.n:\n",
    "            return False\n",
    "        return True\n",
    "        \n",
    "    def reset(self):\n",
    "        if self.random_start:\n",
    "            self.x = random.randint(0,self.n-1)\n",
    "            self.y = random.randint(0,self.n-1)\n",
    "        else:\n",
    "            self.x = self.start_x\n",
    "            self.y = self.start_y\n",
    "        return (self.x,self.y)\n",
    "    \n",
    "    def get_all_actions(self):\n",
    "        return [i for i in range(len(self.index_to_direction))]\n",
    "    \n",
    "    def get_actions(self):\n",
    "        actions = []\n",
    "        for i in range(len(self.index_to_direction)):\n",
    "            if self.is_valid(self.x + self.index_to_direction[i][0],self.y + self.index_to_direction[i][1]):\n",
    "                actions.append(i)\n",
    "        return actions\n",
    "    \n",
    "    \n",
    "    def get_actions_at_state(self,state):\n",
    "        actions = []\n",
    "        for i in range(len(self.index_to_direction)):\n",
    "            if self.is_valid(state[0] + self.index_to_direction[i][0],state[1] + self.index_to_direction[i][1]):\n",
    "                actions.append(i)\n",
    "        return actions\n",
    "    \n",
    "    def get_random_action_at_state(self,state):\n",
    "        return random.choice(self.get_actions_at_state(state))\n",
    "    \n",
    "    def get_random_action(self):\n",
    "        return random.choice(self.get_actions())\n",
    "    \n",
    "    def step(self,action):\n",
    "        self.x = self.x + self.index_to_direction[action][0]\n",
    "        self.y = self.y + self.index_to_direction[action][1]\n",
    "        \n",
    "        reward = -1\n",
    "        done = False\n",
    "        if (self.x,self.y) in self.end_states:\n",
    "            reward = 0\n",
    "            done = True\n",
    "            \n",
    "        return (self.x,self.y),reward,done,None\n",
    "            "
   ]
  },
  {
   "cell_type": "code",
   "execution_count": 13,
   "metadata": {},
   "outputs": [],
   "source": [
    "\n",
    "def print_state_action():\n",
    "    g = []\n",
    "    for i in range(env.n):\n",
    "        t = []\n",
    "        for j in range(env.n):\n",
    "            t.append(-9999.0)\n",
    "        g.append(t)\n",
    "\n",
    "        \n",
    "    \n",
    "    for i in range(env.n):\n",
    "        for j in range(env.n):\n",
    "            for action in env.get_all_actions():\n",
    "                sa = ((i,j),action)\n",
    "                if (sa) in state_action:\n",
    "                    g[i][j] = max(g[i][j],state_action[sa])\n",
    "    \n",
    "    \n",
    "    for i in range(env.n):\n",
    "        for j in range(env.n):\n",
    "            if(g[i][j] == -9999.0):\n",
    "                g[i][j] = 0\n",
    "    \n",
    "    \n",
    "    \n",
    "    for i in range(env.n):\n",
    "        for j in range(env.n):\n",
    "            print(\"%-3.2f \"%(g[i][j]),end=\"\")\n",
    "        print()\n",
    "\n",
    "\n",
    "        \n",
    "def print_heat_map():\n",
    "    g = []\n",
    "    for i in range(env.n):\n",
    "        t = []\n",
    "        for j in range(env.n):\n",
    "            t.append(-9999.0)\n",
    "        g.append(t)\n",
    "\n",
    "        \n",
    "    \n",
    "    for i in range(env.n):\n",
    "        for j in range(env.n):\n",
    "            for action in env.get_all_actions():\n",
    "                sa = ((i,j),action)\n",
    "                if (sa) in state_action:\n",
    "                    g[i][j] = max(g[i][j],state_action[sa])\n",
    "    \n",
    "    \n",
    "    for i in range(env.n):\n",
    "        for j in range(env.n):\n",
    "            if(g[i][j] == -9999.0):\n",
    "                g[i][j] = 0\n",
    "    \n",
    "#     for i in range(env.n):\n",
    "#         for j in range(env.n):\n",
    "#             print(\"%-3.2f \"%(g[i][j]),end=\"\")\n",
    "#         print()\n",
    "\n",
    "    \n",
    "    a = np.array(g)\n",
    "    plt.imshow(a, cmap='hot', interpolation='nearest')\n",
    "    plt.show()"
   ]
  },
  {
   "cell_type": "code",
   "execution_count": 14,
   "metadata": {},
   "outputs": [],
   "source": [
    "\n",
    "def set_state_action(sa):\n",
    "    global state_action\n",
    "    if sa not in state_action:\n",
    "        state_action[sa] = NEG_INF\n",
    "\n",
    "def get_action(obs):\n",
    "    global env\n",
    "    \n",
    "    t = random.random()\n",
    "    if t < exploration:\n",
    "        return env.get_random_action_at_state(obs)\n",
    "    else:\n",
    "        act = env.get_random_action_at_state(obs)\n",
    "        val = NEG_INF\n",
    "        for action in env.get_actions_at_state(obs): \n",
    "            sa = (obs,action)\n",
    "            set_state_action(sa)\n",
    "            if state_action[sa] > val:\n",
    "                act = action\n",
    "                val = state_action[sa]\n",
    "            \n",
    "        return act\n",
    "\n",
    "## This is SARSA\n",
    "def update_state_action(n,states,actions,rewards):\n",
    "    current_sa = (states[0],actions[0])\n",
    "    set_state_action(current_sa)\n",
    "    \n",
    "    total_rewards = 0\n",
    "    for i in range(len(rewards)):\n",
    "        total_rewards += pow(discount_rate,i+1) * rewards[i]\n",
    "    \n",
    "    next_action = get_action(states[-1])\n",
    "    next_sa = (states[-1],next_action)  \n",
    "    set_state_action(next_sa)\n",
    "\n",
    "    \n",
    "#     print(states,actions,rewards,state_action[current_sa])\n",
    "#     print(current_sa,total_rewards + pow(discount_rate,n)*state_action[next_sa],state_action[current_sa])\n",
    "    \n",
    "    state_action[current_sa] = state_action[current_sa] + learning_rate*(total_rewards + pow(discount_rate,n)*state_action[next_sa] - state_action[current_sa]) \n",
    "#     print(state_action[current_sa])\n",
    "\n",
    "    "
   ]
  },
  {
   "cell_type": "code",
   "execution_count": 15,
   "metadata": {},
   "outputs": [],
   "source": [
    "def train(n,no_episodes = 10,episode_length = 10):\n",
    "    global exploration,env\n",
    "\n",
    "    for ep in range(no_episodes):\n",
    "        states = []\n",
    "        actions = []\n",
    "        rewards = []\n",
    "        \n",
    "        obs = env.reset()\n",
    "        if obs in env.end_states:\n",
    "            continue\n",
    "        \n",
    "        \n",
    "        for i in range(episode_length):\n",
    "            action = get_action(obs)\n",
    "            new_obs, reward, done, _ = env.step(action)\n",
    "            \n",
    "            states.append(obs)\n",
    "            actions.append(action)\n",
    "            rewards.append(reward)\n",
    "            obs = new_obs\n",
    "            if len(states) > n:\n",
    "                states = states[1:]\n",
    "                actions = actions[1:]\n",
    "                rewards = rewards[1:]\n",
    "            \n",
    "            if len(states) < n:\n",
    "                continue\n",
    "            \n",
    "            if done:\n",
    "                break\n",
    "                \n",
    "            update_state_action(n,states,actions,rewards)\n",
    "            \n",
    "            if done:\n",
    "                break\n",
    "#         print(\"#\"*10+\" EP OVER \" + \"#\"*10)\n",
    "        exploration = exploration * 0.999\n"
   ]
  },
  {
   "cell_type": "code",
   "execution_count": 31,
   "metadata": {},
   "outputs": [],
   "source": [
    "## (state,action) -> reward\n",
    "state_action = {}\n",
    "\n",
    "exploration = 0.7\n",
    "learning_rate = 0.4\n",
    "discount_rate = 1\n",
    "n = 12\n",
    "env = Env(n=15,start_x = 2,start_y = 2,end_states = {(0,0),(4,7)},random_start=True)"
   ]
  },
  {
   "cell_type": "code",
   "execution_count": 32,
   "metadata": {},
   "outputs": [],
   "source": [
    "train(n,2000,30)"
   ]
  },
  {
   "cell_type": "code",
   "execution_count": 33,
   "metadata": {},
   "outputs": [
    {
     "data": {
      "image/png": "[encoded data removed]",
      "text/plain": [
       "<Figure size 432x288 with 1 Axes>"
      ]
     },
     "metadata": {
      "needs_background": "light"
     },
     "output_type": "display_data"
    }
   ],
   "source": [
    "print_heat_map()\n"
   ]
  },
  {
   "cell_type": "code",
   "execution_count": 45,
   "metadata": {},
   "outputs": [
    {
     "data": {
      "text/plain": [
       "0.19408619345261716"
      ]
     },
     "execution_count": 45,
     "metadata": {},
     "output_type": "execute_result"
    }
   ],
   "source": [
    "exploration"
   ]
  },
  {
   "cell_type": "code",
   "execution_count": 46,
   "metadata": {},
   "outputs": [
    {
     "data": {
      "text/plain": [
       "{((2, 2), 0): -9.085623482428739,\n",
       " ((2, 2), 2): -9.55743046505059,\n",
       " ((1, 2), 0): -4.772364,\n",
       " ((1, 2), 2): -7.7879213643308765,\n",
       " ((1, 2), 3): -9.680326548937606,\n",
       " ((1, 1), 0): -5.120625931074919,\n",
       " ((1, 1), 1): -5.0029452,\n",
       " ((1, 1), 2): -3.0274799999999997,\n",
       " ((1, 1), 3): -3.924503371716,\n",
       " ((1, 0), 1): -1.8119999999999998,\n",
       " ((1, 0), 2): 0,\n",
       " ((1, 0), 3): -5.429997841468103,\n",
       " ((2, 0), 1): -4.928974687497361,\n",
       " ((2, 0), 2): -6.82681491388452,\n",
       " ((2, 1), 0): -7.407886936301172,\n",
       " ((2, 1), 1): -9.430888306136618,\n",
       " ((2, 1), 2): -7.7011905240075444,\n",
       " ((0, 1), 0): 0,\n",
       " ((0, 1), 1): 0,\n",
       " ((0, 1), 3): -1.2,\n",
       " ((0, 2), 0): -6.23628618345444,\n",
       " ((0, 2), 3): -4.8503660808903515}"
      ]
     },
     "execution_count": 46,
     "metadata": {},
     "output_type": "execute_result"
    }
   ],
   "source": [
    "state_action"
   ]
  },
  {
   "cell_type": "code",
   "execution_count": null,
   "metadata": {},
   "outputs": [],
   "source": []
  }
 ],
 "metadata": {
  "kernelspec": {
   "display_name": "Python 3",
   "language": "python",
   "name": "python3"
  },
  "language_info": {
   "codemirror_mode": {
    "name": "ipython",
    "version": 3
   },
   "file_extension": ".py",
   "mimetype": "text/x-python",
   "name": "python",
   "nbconvert_exporter": "python",
   "pygments_lexer": "ipython3",
   "version": "3.8.10"
  }
 },
 "nbformat": 4,
 "nbformat_minor": 4
}
