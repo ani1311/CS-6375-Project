{
 "cells": [
  {
   "cell_type": "code",
   "execution_count": 1,
   "metadata": {},
   "outputs": [],
   "source": [
    "import gym\n",
    "import numpy as np\n",
    "from math import sqrt\n",
    "import time\n",
    "import random"
   ]
  },
  {
   "cell_type": "code",
   "execution_count": 2,
   "metadata": {},
   "outputs": [],
   "source": [
    "def get_discrete_obs(observation):\n",
    "    t = (observation* scale).astype(int)\n",
    "    return tuple(t)"
   ]
  },
  {
   "cell_type": "code",
   "execution_count": 3,
   "metadata": {},
   "outputs": [],
   "source": [
    "NEG_INF = -99\n",
    "env = gym.make('CartPole-v1')\n",
    "scale = 12\n"
   ]
  },
  {
   "cell_type": "code",
   "execution_count": 4,
   "metadata": {},
   "outputs": [],
   "source": [
    "\n",
    "def set_state_action(sa):\n",
    "    global state_action\n",
    "    if sa not in state_action:\n",
    "        state_action[sa] = 0\n",
    "\n",
    "def get_action(obs):\n",
    "    global env\n",
    "    \n",
    "    t = random.random()\n",
    "    if t < exploration:\n",
    "        return env.action_space.sample()\n",
    "    else:\n",
    "        act = env.action_space.sample()\n",
    "        val = 0\n",
    "        for action in range(env.action_space.n): \n",
    "            sa = (obs,action)\n",
    "            set_state_action(sa)\n",
    "            if state_action[sa] > val:\n",
    "                act = action\n",
    "                val = state_action[sa]\n",
    "            \n",
    "        return act\n",
    "\n",
    "\n",
    "## This is SARSA\n",
    "def update_state_action(n,states,actions,rewards):\n",
    "    current_sa = (states[0],actions[0])\n",
    "    set_state_action(current_sa)\n",
    "    \n",
    "    total_rewards = 0\n",
    "    for i in range(len(rewards)):\n",
    "        total_rewards += pow(discount_rate,i+1) * rewards[i]\n",
    "    \n",
    "    next_action = get_action(states[-1])\n",
    "    next_sa = (states[-1],next_action)  \n",
    "    set_state_action(next_sa)\n",
    "\n",
    "    \n",
    "#     print(states,actions,rewards,state_action[current_sa])\n",
    "#     print(current_sa,total_rewards + pow(discount_rate,n)*state_action[next_sa],state_action[current_sa])\n",
    "    \n",
    "    state_action[current_sa] = state_action[current_sa] + learning_rate*(total_rewards + pow(discount_rate,n)*state_action[next_sa] - state_action[current_sa]) \n",
    "#     print(state_action[current_sa])\n",
    "\n",
    "\n",
    "    "
   ]
  },
  {
   "cell_type": "code",
   "execution_count": 8,
   "metadata": {},
   "outputs": [],
   "source": [
    "def train(n,no_episodes = 10):\n",
    "    global exploration,env\n",
    "    avg_len = 0\n",
    "    \n",
    "    for ep in range(no_episodes):\n",
    "        states = []\n",
    "        actions = []\n",
    "        rewards = []\n",
    "        \n",
    "        obs = get_discrete_obs(env.reset())\n",
    "        \n",
    "        ep_len = 0\n",
    "        while True:\n",
    "            ep_len += 1\n",
    "            action = get_action(obs)\n",
    "            new_obs, reward, done, _ = env.step(action)\n",
    "            new_obs = get_discrete_obs(new_obs)\n",
    "            \n",
    "            states.append(obs)\n",
    "            actions.append(action)\n",
    "            rewards.append(reward)\n",
    "            obs = new_obs\n",
    "            if len(states) > n:\n",
    "                states = states[1:]\n",
    "                actions = actions[1:]\n",
    "                rewards = rewards[1:]\n",
    "            \n",
    "            if done:\n",
    "                break\n",
    "                \n",
    "            if len(states) < n:\n",
    "                continue\n",
    "            \n",
    "                \n",
    "            update_state_action(n,states,actions,rewards)\n",
    "            \n",
    "            if done:\n",
    "                break\n",
    "        \n",
    "        exploration = exploration * 0.999\n",
    "        avg_len += ep_len\n",
    "        \n",
    "        if ep % 200 == 0:\n",
    "            print(avg_len/200)\n",
    "            avg_len = 0"
   ]
  },
  {
   "cell_type": "code",
   "execution_count": 9,
   "metadata": {},
   "outputs": [],
   "source": [
    "## (state,action) -> reward\n",
    "state_action = {}\n",
    "\n",
    "exploration = 0.7\n",
    "learning_rate = 1\n",
    "discount_rate = 1\n",
    "n = 12"
   ]
  },
  {
   "cell_type": "code",
   "execution_count": 10,
   "metadata": {},
   "outputs": [
    {
     "name": "stdout",
     "output_type": "stream",
     "text": [
      "0.115\n",
      "23.07\n",
      "25.35\n",
      "20.505\n",
      "24.61\n",
      "26.665\n",
      "22.72\n",
      "25.44\n",
      "23.67\n",
      "24.09\n",
      "21.11\n",
      "20.72\n",
      "25.04\n",
      "19.515\n",
      "19.185\n",
      "21.815\n",
      "15.645\n",
      "22.14\n",
      "22.6\n",
      "24.17\n",
      "19.29\n",
      "21.86\n",
      "21.365\n",
      "26.0\n",
      "21.895\n"
     ]
    }
   ],
   "source": [
    "train(n,5000)"
   ]
  },
  {
   "cell_type": "code",
   "execution_count": null,
   "metadata": {},
   "outputs": [],
   "source": []
  },
  {
   "cell_type": "code",
   "execution_count": null,
   "metadata": {},
   "outputs": [],
   "source": []
  }
 ],
 "metadata": {
  "kernelspec": {
   "display_name": "Python 3",
   "language": "python",
   "name": "python3"
  },
  "language_info": {
   "codemirror_mode": {
    "name": "ipython",
    "version": 3
   },
   "file_extension": ".py",
   "mimetype": "text/x-python",
   "name": "python",
   "nbconvert_exporter": "python",
   "pygments_lexer": "ipython3",
   "version": "3.8.10"
  }
 },
 "nbformat": 4,
 "nbformat_minor": 4
}
