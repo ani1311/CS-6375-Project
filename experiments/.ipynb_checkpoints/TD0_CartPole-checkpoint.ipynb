{
 "cells": [
  {
   "cell_type": "code",
   "execution_count": 1,
   "metadata": {},
   "outputs": [],
   "source": [
    "import gym\n",
    "import numpy as np\n",
    "from math import sqrt\n",
    "import time\n",
    "import random"
   ]
  },
  {
   "cell_type": "code",
   "execution_count": 8,
   "metadata": {},
   "outputs": [],
   "source": [
    "NEG_INF = -99\n",
    "scale = 12\n",
    "env = gym.make('CartPole-v1')"
   ]
  },
  {
   "cell_type": "code",
   "execution_count": 9,
   "metadata": {},
   "outputs": [],
   "source": [
    "def get_discrete_obs(observation):\n",
    "    t = (observation* scale).astype(int)\n",
    "    return tuple(t)"
   ]
  },
  {
   "cell_type": "code",
   "execution_count": 10,
   "metadata": {},
   "outputs": [],
   "source": [
    "\n",
    "def set_state_action(sa):\n",
    "    global state_action\n",
    "    if sa not in state_action:\n",
    "        state_action[sa] = 0\n",
    "\n",
    "def get_action(obs):\n",
    "    global env\n",
    "    \n",
    "    t = random.random()\n",
    "    if t < exploration:\n",
    "        return env.action_space.sample()\n",
    "    else:\n",
    "        act = env.action_space.sample()\n",
    "        val = 0\n",
    "        for action in range(env.action_space.n): \n",
    "            sa = (obs,action)\n",
    "            set_state_action(sa)\n",
    "            if state_action[sa] > val:\n",
    "                act = action\n",
    "                val = state_action[sa]\n",
    "            \n",
    "        return act\n",
    "\n",
    "## This is SARSA\n",
    "def update_state_action(obs,new_obs,action,reward):\n",
    "    current_sa = (obs,action)\n",
    "    set_state_action(current_sa)\n",
    "    \n",
    "    next_action = get_action(new_obs)\n",
    "    next_sa = (new_obs,next_action)\n",
    "    set_state_action(next_sa)\n",
    "            \n",
    "    state_action[current_sa] = state_action[current_sa] + learning_rate*(reward + discount_rate*state_action[next_sa] - state_action[current_sa]) \n",
    "\n",
    "\n",
    "    "
   ]
  },
  {
   "cell_type": "code",
   "execution_count": 17,
   "metadata": {},
   "outputs": [],
   "source": [
    "def train(no_episodes = 10):\n",
    "    global exploration,env\n",
    "    avg_ep_len = 0\n",
    "    for ep in range(no_episodes):\n",
    "        obs = get_discrete_obs(env.reset())\n",
    "        if ep%500 == 0:\n",
    "            print(avg_ep_len/500)\n",
    "            avg_ep_len = 0\n",
    "        ep_len = 0\n",
    "        while True:\n",
    "            action = get_action(obs)\n",
    "            new_obs, reward, done, _ = env.step(action)\n",
    "            new_obs = get_discrete_obs(new_obs)\n",
    "            update_state_action(obs,new_obs,action,reward)\n",
    "            obs = new_obs\n",
    "            ep_len += 1\n",
    "            if done:\n",
    "                break\n",
    "        avg_ep_len += ep_len\n",
    "        exploration = exploration * 0.9995"
   ]
  },
  {
   "cell_type": "code",
   "execution_count": 18,
   "metadata": {},
   "outputs": [],
   "source": [
    "## (state,action) -> reward\n",
    "state_action = {}\n",
    "\n",
    "exploration = 0.7\n",
    "learning_rate = 1\n",
    "discount_rate = 1\n"
   ]
  },
  {
   "cell_type": "code",
   "execution_count": 19,
   "metadata": {},
   "outputs": [
    {
     "name": "stdout",
     "output_type": "stream",
     "text": [
      "0.0\n",
      "26.168\n",
      "27.054\n",
      "28.104\n",
      "30.43\n",
      "32.176\n",
      "34.284\n",
      "33.69\n",
      "33.252\n",
      "31.032\n",
      "35.874\n",
      "37.352\n",
      "34.744\n",
      "30.776\n",
      "34.236\n",
      "37.666\n",
      "40.864\n",
      "39.558\n",
      "39.296\n",
      "32.87\n",
      "47.388\n",
      "43.49\n",
      "37.384\n",
      "34.978\n",
      "39.404\n",
      "38.646\n",
      "39.96\n",
      "35.928\n",
      "47.5\n",
      "48.49\n",
      "44.326\n",
      "47.562\n",
      "39.576\n",
      "38.124\n",
      "33.048\n",
      "32.942\n",
      "34.426\n",
      "44.206\n",
      "45.014\n",
      "33.99\n",
      "31.31\n",
      "44.182\n",
      "57.114\n",
      "58.262\n",
      "59.576\n",
      "61.192\n",
      "65.708\n",
      "66.358\n",
      "46.492\n",
      "43.534\n",
      "43.982\n",
      "46.092\n",
      "56.666\n",
      "56.09\n",
      "58.252\n",
      "59.264\n",
      "60.492\n",
      "61.902\n",
      "70.436\n",
      "70.4\n",
      "69.448\n",
      "70.562\n",
      "68.374\n",
      "71.242\n",
      "70.386\n",
      "71.472\n",
      "70.464\n"
     ]
    },
    {
     "ename": "KeyboardInterrupt",
     "evalue": "",
     "output_type": "error",
     "traceback": [
      "\u001b[0;31m---------------------------------------------------------------------------\u001b[0m",
      "\u001b[0;31mKeyboardInterrupt\u001b[0m                         Traceback (most recent call last)",
      "\u001b[0;32m<ipython-input-19-0a35e4abda4c>\u001b[0m in \u001b[0;36m<module>\u001b[0;34m\u001b[0m\n\u001b[0;32m----> 1\u001b[0;31m \u001b[0mtrain\u001b[0m\u001b[0;34m(\u001b[0m\u001b[0;36m50000\u001b[0m\u001b[0;34m)\u001b[0m\u001b[0;34m\u001b[0m\u001b[0;34m\u001b[0m\u001b[0m\n\u001b[0m",
      "\u001b[0;32m<ipython-input-17-54dbec6027c9>\u001b[0m in \u001b[0;36mtrain\u001b[0;34m(no_episodes)\u001b[0m\n\u001b[1;32m      9\u001b[0m         \u001b[0mep_len\u001b[0m \u001b[0;34m=\u001b[0m \u001b[0;36m0\u001b[0m\u001b[0;34m\u001b[0m\u001b[0;34m\u001b[0m\u001b[0m\n\u001b[1;32m     10\u001b[0m         \u001b[0;32mwhile\u001b[0m \u001b[0;32mTrue\u001b[0m\u001b[0;34m:\u001b[0m\u001b[0;34m\u001b[0m\u001b[0;34m\u001b[0m\u001b[0m\n\u001b[0;32m---> 11\u001b[0;31m             \u001b[0maction\u001b[0m \u001b[0;34m=\u001b[0m \u001b[0mget_action\u001b[0m\u001b[0;34m(\u001b[0m\u001b[0mobs\u001b[0m\u001b[0;34m)\u001b[0m\u001b[0;34m\u001b[0m\u001b[0;34m\u001b[0m\u001b[0m\n\u001b[0m\u001b[1;32m     12\u001b[0m             \u001b[0mnew_obs\u001b[0m\u001b[0;34m,\u001b[0m \u001b[0mreward\u001b[0m\u001b[0;34m,\u001b[0m \u001b[0mdone\u001b[0m\u001b[0;34m,\u001b[0m \u001b[0m_\u001b[0m \u001b[0;34m=\u001b[0m \u001b[0menv\u001b[0m\u001b[0;34m.\u001b[0m\u001b[0mstep\u001b[0m\u001b[0;34m(\u001b[0m\u001b[0maction\u001b[0m\u001b[0;34m)\u001b[0m\u001b[0;34m\u001b[0m\u001b[0;34m\u001b[0m\u001b[0m\n\u001b[1;32m     13\u001b[0m             \u001b[0mnew_obs\u001b[0m \u001b[0;34m=\u001b[0m \u001b[0mget_discrete_obs\u001b[0m\u001b[0;34m(\u001b[0m\u001b[0mnew_obs\u001b[0m\u001b[0;34m)\u001b[0m\u001b[0;34m\u001b[0m\u001b[0;34m\u001b[0m\u001b[0m\n",
      "\u001b[0;32m<ipython-input-10-34fcd80e9434>\u001b[0m in \u001b[0;36mget_action\u001b[0;34m(obs)\u001b[0m\n\u001b[1;32m     15\u001b[0m         \u001b[0;32mfor\u001b[0m \u001b[0maction\u001b[0m \u001b[0;32min\u001b[0m \u001b[0mrange\u001b[0m\u001b[0;34m(\u001b[0m\u001b[0menv\u001b[0m\u001b[0;34m.\u001b[0m\u001b[0maction_space\u001b[0m\u001b[0;34m.\u001b[0m\u001b[0mn\u001b[0m\u001b[0;34m)\u001b[0m\u001b[0;34m:\u001b[0m\u001b[0;34m\u001b[0m\u001b[0;34m\u001b[0m\u001b[0m\n\u001b[1;32m     16\u001b[0m             \u001b[0msa\u001b[0m \u001b[0;34m=\u001b[0m \u001b[0;34m(\u001b[0m\u001b[0mobs\u001b[0m\u001b[0;34m,\u001b[0m\u001b[0maction\u001b[0m\u001b[0;34m)\u001b[0m\u001b[0;34m\u001b[0m\u001b[0;34m\u001b[0m\u001b[0m\n\u001b[0;32m---> 17\u001b[0;31m             \u001b[0mset_state_action\u001b[0m\u001b[0;34m(\u001b[0m\u001b[0msa\u001b[0m\u001b[0;34m)\u001b[0m\u001b[0;34m\u001b[0m\u001b[0;34m\u001b[0m\u001b[0m\n\u001b[0m\u001b[1;32m     18\u001b[0m             \u001b[0;32mif\u001b[0m \u001b[0mstate_action\u001b[0m\u001b[0;34m[\u001b[0m\u001b[0msa\u001b[0m\u001b[0;34m]\u001b[0m \u001b[0;34m>\u001b[0m \u001b[0mval\u001b[0m\u001b[0;34m:\u001b[0m\u001b[0;34m\u001b[0m\u001b[0;34m\u001b[0m\u001b[0m\n\u001b[1;32m     19\u001b[0m                 \u001b[0mact\u001b[0m \u001b[0;34m=\u001b[0m \u001b[0maction\u001b[0m\u001b[0;34m\u001b[0m\u001b[0;34m\u001b[0m\u001b[0m\n",
      "\u001b[0;32m<ipython-input-10-34fcd80e9434>\u001b[0m in \u001b[0;36mset_state_action\u001b[0;34m(sa)\u001b[0m\n\u001b[1;32m      1\u001b[0m \u001b[0;32mdef\u001b[0m \u001b[0mset_state_action\u001b[0m\u001b[0;34m(\u001b[0m\u001b[0msa\u001b[0m\u001b[0;34m)\u001b[0m\u001b[0;34m:\u001b[0m\u001b[0;34m\u001b[0m\u001b[0;34m\u001b[0m\u001b[0m\n\u001b[1;32m      2\u001b[0m     \u001b[0;32mglobal\u001b[0m \u001b[0mstate_action\u001b[0m\u001b[0;34m\u001b[0m\u001b[0;34m\u001b[0m\u001b[0m\n\u001b[0;32m----> 3\u001b[0;31m     \u001b[0;32mif\u001b[0m \u001b[0msa\u001b[0m \u001b[0;32mnot\u001b[0m \u001b[0;32min\u001b[0m \u001b[0mstate_action\u001b[0m\u001b[0;34m:\u001b[0m\u001b[0;34m\u001b[0m\u001b[0;34m\u001b[0m\u001b[0m\n\u001b[0m\u001b[1;32m      4\u001b[0m         \u001b[0mstate_action\u001b[0m\u001b[0;34m[\u001b[0m\u001b[0msa\u001b[0m\u001b[0;34m]\u001b[0m \u001b[0;34m=\u001b[0m \u001b[0;36m0\u001b[0m\u001b[0;34m\u001b[0m\u001b[0;34m\u001b[0m\u001b[0m\n\u001b[1;32m      5\u001b[0m \u001b[0;34m\u001b[0m\u001b[0m\n",
      "\u001b[0;31mKeyboardInterrupt\u001b[0m: "
     ]
    }
   ],
   "source": [
    "train(50000)"
   ]
  },
  {
   "cell_type": "code",
   "execution_count": 78,
   "metadata": {},
   "outputs": [
    {
     "data": {
      "text/plain": [
       "0.05742358610233164"
      ]
     },
     "execution_count": 78,
     "metadata": {},
     "output_type": "execute_result"
    }
   ],
   "source": [
    "exploration"
   ]
  },
  {
   "cell_type": "code",
   "execution_count": null,
   "metadata": {},
   "outputs": [],
   "source": []
  }
 ],
 "metadata": {
  "kernelspec": {
   "display_name": "Python 3",
   "language": "python",
   "name": "python3"
  },
  "language_info": {
   "codemirror_mode": {
    "name": "ipython",
    "version": 3
   },
   "file_extension": ".py",
   "mimetype": "text/x-python",
   "name": "python",
   "nbconvert_exporter": "python",
   "pygments_lexer": "ipython3",
   "version": "3.8.10"
  }
 },
 "nbformat": 4,
 "nbformat_minor": 4
}
