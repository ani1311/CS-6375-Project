{
 "cells": [
  {
   "cell_type": "code",
   "execution_count": 1,
   "metadata": {},
   "outputs": [],
   "source": [
    "import random\n",
    "import matplotlib.pyplot as plt\n",
    "import numpy as np\n"
   ]
  },
  {
   "cell_type": "code",
   "execution_count": 2,
   "metadata": {},
   "outputs": [],
   "source": [
    "class Env:\n",
    "    index_to_direction = [\n",
    "        [ 0,-1],\n",
    "        [ 0, 1],\n",
    "        [-1, 0],\n",
    "        [ 1, 0]]\n",
    "    \n",
    "    def __init__(self, n = 5,start_x = 3,start_y = 3,end_states = {(0,0)},random_start = True):\n",
    "        self.start_x = start_x\n",
    "        self.start_y = start_y\n",
    "        self.x = self.start_x\n",
    "        self.y = self.start_y\n",
    "        self.n = n\n",
    "        self.end_states = end_states\n",
    "        self.random_start = random_start\n",
    "        \n",
    "    \n",
    "    def is_valid(self,x,y):\n",
    "        if x < 0 or x >= self.n or y < 0 or y >= self.n:\n",
    "            return False\n",
    "        return True\n",
    "        \n",
    "    def reset(self):\n",
    "        if self.random_start:\n",
    "            self.x = random.randint(0,self.n-1)\n",
    "            self.y = random.randint(0,self.n-1)\n",
    "        else:\n",
    "            self.x = self.start_x\n",
    "            self.y = self.start_y\n",
    "        return (self.x,self.y)\n",
    "    \n",
    "    def get_actions(self):\n",
    "        actions = []\n",
    "        for i in range(len(self.index_to_direction)):\n",
    "            if self.is_valid(self.x + self.index_to_direction[i][0],self.y + self.index_to_direction[i][1]):\n",
    "                actions.append(i)\n",
    "        return actions\n",
    "        \n",
    "    def get_random_action(self):\n",
    "        return random.choice(self.get_actions())\n",
    "    \n",
    "    def step(self,action):\n",
    "        self.x = self.x + self.index_to_direction[action][0]\n",
    "        self.y = self.y + self.index_to_direction[action][1]\n",
    "        \n",
    "        reward = -1\n",
    "        done = False\n",
    "        if (self.x,self.y) in self.end_states:\n",
    "            reward = 0\n",
    "            done = True\n",
    "            \n",
    "        return (self.x,self.y),reward,done,None\n",
    "            \n",
    "    "
   ]
  },
  {
   "cell_type": "code",
   "execution_count": 3,
   "metadata": {},
   "outputs": [],
   "source": [
    "\n",
    "def print_state_action(state_action):\n",
    "    g = []\n",
    "    for i in range(env.n):\n",
    "        t = []\n",
    "        for j in range(env.n):\n",
    "            t.append(-9999.0)\n",
    "        g.append(t)\n",
    "        \n",
    "    for k,v in state_action.items():\n",
    "        g[k[0][0]][k[0][1]] = max(g[k[0][0]][k[0][1]],v[0])\n",
    "    \n",
    "    for i in range(env.n):\n",
    "        for j in range(env.n):\n",
    "            print(\"%-3.2f \"%(g[i][j]),end=\"\")\n",
    "        print()\n",
    "\n",
    "\n",
    "        \n",
    "def print_heat_map(state_action):\n",
    "    g = []\n",
    "    for i in range(env.n):\n",
    "        t = []\n",
    "        for j in range(env.n):\n",
    "            t.append(-9999.0)\n",
    "        g.append(t)\n",
    "        \n",
    "    for k,v in state_action.items():\n",
    "        g[k[0][0]][k[0][1]] = max(g[k[0][0]][k[0][1]],v[0])\n",
    "    \n",
    "    for i in range(env.n):\n",
    "        for j in range(env.n):\n",
    "            if(g[i][j] == -9999.0):\n",
    "                g[i][j] = 0\n",
    "    \n",
    "    a = np.array(g)\n",
    "    plt.imshow(a, cmap='hot', interpolation='nearest')\n",
    "    plt.show()"
   ]
  },
  {
   "cell_type": "code",
   "execution_count": 4,
   "metadata": {},
   "outputs": [],
   "source": [
    "\n",
    "def get_action(observation):\n",
    "    t = random.random()\n",
    "#     print(exploration)\n",
    "    if t < exploration:\n",
    "        return env.get_random_action()\n",
    "    else:\n",
    "        action = env.get_random_action()\n",
    "        best_score = 0\n",
    "        for k,v in state_action.items():\n",
    "            if k[0] == observation and v[0] > best_score:\n",
    "                action = k[1]\n",
    "                best_score = v[0]\n",
    "        return action\n",
    "\n",
    "\n",
    "def get_episode(no_of_steps):\n",
    "    ## (state,action,reward)\n",
    "    episode = []\n",
    "    observation = env.reset()\n",
    "    \n",
    "    if observation in env.end_states:\n",
    "        return episode\n",
    "    \n",
    "    for _ in range(no_of_steps):\n",
    "        action = get_action(observation)\n",
    "        new_observation, reward, done, _ = env.step(action)\n",
    "        \n",
    "        episode.append([observation,action,reward])\n",
    "        observation = new_observation\n",
    "        if done:\n",
    "            break\n",
    "    return episode\n",
    "\n",
    "def eval_episode(episode):\n",
    "    episode.reverse()\n",
    "    reward_so_far = 0\n",
    "    \n",
    "    for state,action,reward in episode:\n",
    "        reward_so_far = reward_so_far + reward\n",
    "        if (state,action) in state_action:\n",
    "            value,count = state_action[(state,action)]\n",
    "            new_val = (value * count + reward_so_far) / (count + 1)\n",
    "            state_action[(state,action)] = [new_val,count + 1]\n",
    "        \n",
    "        else:\n",
    "            state_action[(state,action)] = [reward_so_far,1]\n",
    "            \n",
    "\n",
    "            \n",
    "    "
   ]
  },
  {
   "cell_type": "code",
   "execution_count": 5,
   "metadata": {},
   "outputs": [],
   "source": [
    "def train(episode_length = 10):\n",
    "    global exploration\n",
    "    for i in range(1,2000):\n",
    "        ep = get_episode(episode_length)\n",
    "#         print(ep)\n",
    "        eval_episode(ep)\n",
    "        exploration = exploration * 0.9999"
   ]
  },
  {
   "cell_type": "code",
   "execution_count": 8,
   "metadata": {},
   "outputs": [],
   "source": [
    "## (state,action) -> [reward,count]\n",
    "state_action = {}\n",
    "exploration = 0.1\n",
    "env = Env(n=15,end_states = {(3,3),(5,5)})\n",
    "train(200)"
   ]
  },
  {
   "cell_type": "code",
   "execution_count": 9,
   "metadata": {},
   "outputs": [
    {
     "data": {
      "image/png": "[encoded data removed]",
      "text/plain": [
       "<Figure size 432x288 with 1 Axes>"
      ]
     },
     "metadata": {
      "needs_background": "light"
     },
     "output_type": "display_data"
    }
   ],
   "source": [
    "print_heat_map()"
   ]
  },
  {
   "cell_type": "code",
   "execution_count": null,
   "metadata": {},
   "outputs": [],
   "source": []
  }
 ],
 "metadata": {
  "kernelspec": {
   "display_name": "Python 3",
   "language": "python",
   "name": "python3"
  },
  "language_info": {
   "codemirror_mode": {
    "name": "ipython",
    "version": 3
   },
   "file_extension": ".py",
   "mimetype": "text/x-python",
   "name": "python",
   "nbconvert_exporter": "python",
   "pygments_lexer": "ipython3",
   "version": "3.8.10"
  }
 },
 "nbformat": 4,
 "nbformat_minor": 4
}
