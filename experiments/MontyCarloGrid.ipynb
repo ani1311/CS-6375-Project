{
 "cells": [
  {
   "cell_type": "code",
   "execution_count": 1,
   "metadata": {},
   "outputs": [],
   "source": [
    "import random"
   ]
  },
  {
   "cell_type": "code",
   "execution_count": 2,
   "metadata": {},
   "outputs": [],
   "source": [
    "class Env:\n",
    "    index_to_direction = [\n",
    "        [ 0,-1],\n",
    "        [ 0, 1],\n",
    "        [-1, 0],\n",
    "        [ 1, 0]]\n",
    "    \n",
    "    def __init__(self, n = 5,start_x = 3,start_y = 3,end_states = {(0,0)}):\n",
    "        self.start_x = start_x\n",
    "        self.start_y = start_y\n",
    "        self.x = self.start_x\n",
    "        self.y = self.start_y\n",
    "        self.n = n\n",
    "        self.end_states = end_states\n",
    "        \n",
    "    \n",
    "    def is_valid(self,x,y):\n",
    "        if x < 0 or x >= self.n or y < 0 or y >= self.n:\n",
    "            return False\n",
    "        return True\n",
    "        \n",
    "    def reset(self):\n",
    "        self.x = self.start_x\n",
    "        self.y = self.start_y\n",
    "        return (self.x,self.y)\n",
    "    \n",
    "    def get_actions(self):\n",
    "        actions = []\n",
    "        for i in range(len(self.index_to_direction)):\n",
    "            if self.is_valid(self.x + self.index_to_direction[i][0],self.y + self.index_to_direction[i][1]):\n",
    "                actions.append(i)\n",
    "        return actions\n",
    "        \n",
    "    def get_random_action(self):\n",
    "        return random.choice(self.get_actions())\n",
    "    \n",
    "    def step(self,action):\n",
    "        self.x = self.x + self.index_to_direction[action][0]\n",
    "        self.y = self.y + self.index_to_direction[action][1]\n",
    "        \n",
    "        reward = -1\n",
    "        done = False\n",
    "        if (self.x,self.y) in self.end_states:\n",
    "            reward = 0\n",
    "            done = True\n",
    "            \n",
    "        return (self.x,self.y),reward,done,None\n",
    "            \n",
    "    "
   ]
  },
  {
   "cell_type": "code",
   "execution_count": 3,
   "metadata": {},
   "outputs": [],
   "source": [
    "\n",
    "def print_state_action():\n",
    "    g = []\n",
    "    for i in range(env.n):\n",
    "        t = []\n",
    "        for j in range(env.n):\n",
    "            t.append(-9999.0)\n",
    "        g.append(t)\n",
    "        \n",
    "    for k,v in state_action.items():\n",
    "        g[k[0][0]][k[0][1]] = max(g[k[0][0]][k[0][1]],v[0])\n",
    "    \n",
    "    for i in range(env.n):\n",
    "        for j in range(env.n):\n",
    "            print(\"%-3.1f \"%(g[i][j]),end=\"\")\n",
    "        print()\n"
   ]
  },
  {
   "cell_type": "code",
   "execution_count": 4,
   "metadata": {},
   "outputs": [],
   "source": [
    "\n",
    "def get_action(observation):\n",
    "    t = random.random()\n",
    "#     print(exploration)\n",
    "    if t < exploration:\n",
    "        return env.get_random_action()\n",
    "    else:\n",
    "        action = env.get_random_action()\n",
    "        best_score = 0\n",
    "        for k,v in state_action.items():\n",
    "            if k[0] == observation and v[0] > best_score:\n",
    "                action = k[1]\n",
    "                best_score = v[0]\n",
    "        return action\n",
    "\n",
    "\n",
    "def get_episode(no_of_steps):\n",
    "    ## (state,action,reward)\n",
    "    episode = []\n",
    "    observation = env.reset()\n",
    "    \n",
    "    for _ in range(no_of_steps):\n",
    "        action = get_action(observation)\n",
    "        observation, reward, done, _ = env.step(action)\n",
    "        \n",
    "        episode.append([observation,action,reward])\n",
    "        if done:\n",
    "            break\n",
    "    return episode\n",
    "\n",
    "def eval_episode(episode):\n",
    "    episode.reverse()\n",
    "    reward_so_far = 0\n",
    "    \n",
    "    for state,action,reward in episode:\n",
    "#         print(state,action,reward)\n",
    "        reward_so_far = reward_so_far + reward\n",
    "        \n",
    "        if (state,action) in state_action:\n",
    "            value,count = state_action[(state,action)]\n",
    "            new_val = (value * count + reward_so_far) / (count + 1)\n",
    "            state_action[(state,action)] = [new_val,count + 1]\n",
    "        \n",
    "        else:\n",
    "            state_action[(state,action)] = [reward_so_far,1]\n",
    "            \n",
    "\n",
    "            \n",
    "    "
   ]
  },
  {
   "cell_type": "code",
   "execution_count": 5,
   "metadata": {},
   "outputs": [],
   "source": [
    "def train(episode_length = 10):\n",
    "    global exploration\n",
    "    for i in range(1,2):\n",
    "        ep = get_episode(episode_length)\n",
    "        eval_episode(ep)\n",
    "#         exploration = exploration * 0.9999"
   ]
  },
  {
   "cell_type": "code",
   "execution_count": 6,
   "metadata": {},
   "outputs": [],
   "source": [
    "## (state,action) -> [reward,count]\n",
    "state_action = {}\n",
    "exploration = 0.3\n",
    "env = Env()\n",
    "train(10)"
   ]
  },
  {
   "cell_type": "code",
   "execution_count": 7,
   "metadata": {},
   "outputs": [
    {
     "name": "stdout",
     "output_type": "stream",
     "text": [
      "-9999.0 -9999.0 -9999.0 -9999.0 -9999.0 \n",
      "-9999.0 -9999.0 -9999.0 -9999.0 -9999.0 \n",
      "-9999.0 -9999.0 -9999.0 -9999.0 -9999.0 \n",
      "-9999.0 -9999.0 -2.0 -9.0 -9999.0 \n",
      "-9999.0 -4.0 -1.0 -6.0 -7.0 \n",
      "{((4, 2), 3): [-1, 1], ((3, 2), 2): [-2, 1], ((4, 2), 1): [-3, 1], ((4, 1), 0): [-4, 1], ((4, 2), 0): [-5, 1], ((4, 3), 0): [-6, 1], ((4, 4), 1): [-7, 1], ((4, 3), 3): [-8, 1], ((3, 3), 1): [-9, 1], ((3, 2), 0): [-10, 1]}\n"
     ]
    }
   ],
   "source": [
    "print_state_action()\n",
    "print(state_action)"
   ]
  },
  {
   "cell_type": "code",
   "execution_count": null,
   "metadata": {},
   "outputs": [],
   "source": []
  }
 ],
 "metadata": {
  "kernelspec": {
   "display_name": "Python 3",
   "language": "python",
   "name": "python3"
  },
  "language_info": {
   "codemirror_mode": {
    "name": "ipython",
    "version": 3
   },
   "file_extension": ".py",
   "mimetype": "text/x-python",
   "name": "python",
   "nbconvert_exporter": "python",
   "pygments_lexer": "ipython3",
   "version": "3.8.10"
  }
 },
 "nbformat": 4,
 "nbformat_minor": 4
}
